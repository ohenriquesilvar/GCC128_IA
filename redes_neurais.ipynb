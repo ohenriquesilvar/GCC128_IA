{
  "nbformat": 4,
  "nbformat_minor": 0,
  "metadata": {
    "colab": {
      "provenance": []
    },
    "kernelspec": {
      "name": "python3",
      "display_name": "Python 3"
    },
    "language_info": {
      "name": "python"
    }
  },
  "cells": [
    {
      "cell_type": "markdown",
      "source": [
        "# GCC128 – INTELIGÊNCIA ARTIFICIAL\n",
        "\n",
        "## REDES NEURAIS ARTIFICIAIS\n",
        "\n",
        "Professor: Eric Araújo\n",
        "\n",
        "Grupo: \n",
        "- Henrique Silva Rabelo - 202010698\n",
        "- Chrystian Arriel Amaral - 201920890"
      ],
      "metadata": {
        "id": "tfTe3DUFfcel"
      }
    },
    {
      "cell_type": "markdown",
      "source": [
        "## Imports"
      ],
      "metadata": {
        "id": "C9mH20wlflCz"
      }
    },
    {
      "cell_type": "code",
      "execution_count": 68,
      "metadata": {
        "id": "qtPVBNzN-hYU"
      },
      "outputs": [],
      "source": [
        "import numpy as np\n",
        "import matplotlib.pyplot as plt"
      ]
    },
    {
      "cell_type": "markdown",
      "source": [
        "## Contants"
      ],
      "metadata": {
        "id": "7PK44hwxfmzE"
      }
    },
    {
      "cell_type": "code",
      "source": [
        "NEURON_1_INDEX = 0\n",
        "NEURON_2_INDEX = 1\n",
        "NEURON_3_INDEX = 2\n",
        "NEURON_4_INDEX = 3"
      ],
      "metadata": {
        "id": "Lj0WrH8-_AXx"
      },
      "execution_count": 69,
      "outputs": []
    },
    {
      "cell_type": "markdown",
      "source": [
        "## Functions"
      ],
      "metadata": {
        "id": "v9uYyPXxDbAU"
      }
    },
    {
      "cell_type": "code",
      "source": [
        "def random_weights():\n",
        "  return  np.random.rand(4)"
      ],
      "metadata": {
        "id": "iTQMALjnwf3n"
      },
      "execution_count": 70,
      "outputs": []
    },
    {
      "cell_type": "code",
      "source": [
        "def sigmoid(x):\n",
        "  return 1/(1 + np.exp(-x))"
      ],
      "metadata": {
        "id": "1MbgnhaND2q4"
      },
      "execution_count": 71,
      "outputs": []
    },
    {
      "cell_type": "code",
      "source": [
        "def sigmoid_derivate(x):\n",
        "  return x * (1-x)"
      ],
      "metadata": {
        "id": "sKgtsb9ED77d"
      },
      "execution_count": 72,
      "outputs": []
    },
    {
      "cell_type": "code",
      "source": [
        "def relu(x):\n",
        "  if(x >= 0):\n",
        "    return x\n",
        "  else:\n",
        "    return 0"
      ],
      "metadata": {
        "id": "FGli7j3AERya"
      },
      "execution_count": 73,
      "outputs": []
    },
    {
      "cell_type": "code",
      "execution_count": 74,
      "outputs": [],
      "source": [
        "def relu_derivate(x):\n",
        "  return 1. * (x >= 0)"
      ],
      "metadata": {
        "id": "ZG_VQpotViEG"
      }
    },
    {
      "cell_type": "code",
      "source": [
        "def calculate_error(y, sample_y):\n",
        "  return y - sample_y"
      ],
      "metadata": {
        "id": "ugmmVC4qpwPE"
      },
      "execution_count": 75,
      "outputs": []
    },
    {
      "cell_type": "code",
      "source": [
        "def update_bias(deltas, bias, learning_rate):\n",
        "    bias_neuron_1, bias_neuron_2, bias_neuron_3, bias_neuron_4 = bias\n",
        "\n",
        "    bias_neuron_1 = bias_neuron_1 - deltas[NEURON_1_INDEX] * learning_rate\n",
        "    bias_neuron_2 = bias_neuron_2 - deltas[NEURON_2_INDEX] * learning_rate\n",
        "    bias_neuron_3 = bias_neuron_3 - deltas[NEURON_3_INDEX] * learning_rate\n",
        "    bias_neuron_4 = bias_neuron_4 - deltas[NEURON_4_INDEX] * learning_rate\n",
        "\n",
        "    return bias_neuron_1, bias_neuron_2, bias_neuron_3, bias_neuron_4"
      ],
      "metadata": {
        "id": "iJ2OvUlDc2KQ"
      },
      "execution_count": 76,
      "outputs": []
    },
    {
      "cell_type": "code",
      "source": [
        "def simulate(x, weights, bias):\n",
        "  w1, w2, w3, w4 = weights[:,NEURON_1_INDEX], weights[:,NEURON_2_INDEX], weights[:,NEURON_3_INDEX], weights[:,NEURON_4_INDEX]\n",
        "  bias_neuron_1, bias_neuron_2, bias_neuron_3, bias_neuron_4 = bias\n",
        "\n",
        "  sop4 = np.sum(w4 * x) + bias_neuron_4\n",
        "  neuron_4 = sigmoid(sop4)\n",
        "\n",
        "  sop3 = np.sum(w3 * x) + bias_neuron_3\n",
        "  neuron_3 = sigmoid(sop3)\n",
        "  \n",
        "  neuron_2_entries = np.array([0, neuron_3, neuron_4,0])\n",
        "  sop2 = np.sum(w2 * neuron_2_entries) + bias_neuron_2\n",
        "  neuron_2 = relu(sop2)\n",
        "\n",
        "  neuron_1_entries = np.array([neuron_2 , neuron_3, neuron_4,0])\n",
        "  sop1= np.sum(w1 * neuron_1_entries) + bias_neuron_1\n",
        "  neuron_1 = sigmoid(sop1)  \n",
        "\n",
        "  return [neuron_1, neuron_2, neuron_3, neuron_4]"
      ],
      "metadata": {
        "id": "5Xjj494albOU"
      },
      "execution_count": 77,
      "outputs": []
    },
    {
      "cell_type": "code",
      "source": [
        "def calculate_deltas(y, sample_y, train_weights):\n",
        "  weigths_1 = train_weights[:,NEURON_1_INDEX]\n",
        "  \n",
        "  delta_neuron_1 =  calculate_error(y[NEURON_1_INDEX],sample_y) * sigmoid_derivate(y[NEURON_1_INDEX])\n",
        "  delta_neuron_2 = delta_neuron_1 * weigths_1[0] * relu_derivate(y[NEURON_2_INDEX])\n",
        "  delta_neuron_3 = delta_neuron_1 * weigths_1[1] * sigmoid_derivate(y[NEURON_3_INDEX])\n",
        "  delta_neuron_4 = delta_neuron_1 * weigths_1[2] * sigmoid_derivate(y[NEURON_4_INDEX])\n",
        "\n",
        "  return [delta_neuron_1, delta_neuron_2, delta_neuron_3, delta_neuron_4]"
      ],
      "metadata": {
        "id": "pZ7uveZXpyOI"
      },
      "execution_count": 78,
      "outputs": []
    },
    {
      "cell_type": "code",
      "source": [
        "def update_weights(training_weights, bias, Y, i, X):\n",
        "  new_weights = training_weights\n",
        "  w1 = training_weights[:,0]\n",
        "  w5 = training_weights[3,:]\n",
        "  w2 = training_weights[:,1]\n",
        "\n",
        "  deltas = calculate_deltas(Y, sample_y[i], training_weights)\n",
        "  new_bias = update_bias(deltas, bias, learning_rate)\n",
        "\n",
        "  w_n2_1 = deltas[1] * Y[1] * learning_rate\n",
        "  w_n3_1 = deltas[2] * Y[2] * learning_rate\n",
        "  w_n4_1 = deltas[3] * Y[3] * learning_rate\n",
        "  \n",
        "  w1 = [w1[0] - w_n2_1, w1[1] - w_n3_1 ,w1[2] - w_n4_1, 0]\n",
        "\n",
        "  new_weights[:,0] = w1\n",
        "\n",
        "  w_n3_2 = deltas[1] * Y[2] * learning_rate\n",
        "  w_n4_2 = deltas[1] * Y[3] * learning_rate\n",
        "  \n",
        "  new_weights[:,1] = [0, w2[1] - w_n3_2, w2[2] - w_n4_2, 0]\n",
        "  \n",
        "  w_n5_3 = deltas[2] * X * learning_rate\n",
        "  w_n5_4 = deltas[3] * X * learning_rate\n",
        "  \n",
        "  new_weights[3,:] = [0, 0, w5[2] - w_n5_3, w5[3] - w_n5_4 ]\n",
        "\n",
        "  return new_weights, new_bias"
      ],
      "metadata": {
        "id": "QgIpf3_2p1uy"
      },
      "execution_count": 79,
      "outputs": []
    },
    {
      "cell_type": "code",
      "source": [
        "def train(x, sample_y, init_weights, bias, epochs):\n",
        "  training_weights = init_weights\n",
        "  training_bias = bias\n",
        "  \n",
        "  for epoch in range(epochs):\n",
        "    y = []\n",
        "    for i in range(len(x)):\n",
        "      neurons_result = simulate(x[i], training_weights, training_bias)\n",
        "      training_weights, training_bias = update_weights(training_weights, training_bias, neurons_result, i, x[i])\n",
        "      y.append(neurons_result[NEURON_1_INDEX])\n",
        "    if (epoch%5000 == 0):\n",
        "      print('\\nMean error: ', np.sum(calculate_error(y,sample_y))/len(sample_y))\n",
        "  \n",
        "  return training_weights, training_bias"
      ],
      "metadata": {
        "id": "adVNk5EBp3-d"
      },
      "execution_count": 80,
      "outputs": []
    },
    {
      "cell_type": "code",
      "source": [
        "def test(sample_x, sample_y, final_weights, final_bias):\n",
        "  y = []\n",
        "  print(\"Trained weights:\\n\", final_weights, \"\\n\" )\n",
        "  print(\"Trained bias:\\n\", final_bias, \"\\n\" )\n",
        "  print('{0:<10} | {1:^18} | {2:>10}'.format('X', 'calculated_y', 'sample_y' ))\n",
        "  \n",
        "  for i in range(len(sample_x)):\n",
        "    neurons_result = simulate(sample_x[i], final_weights, final_bias)\n",
        "    print('{0:<10} | {1:^18} | {2:>10}'.format(sample_x[i], neurons_result[NEURON_1_INDEX], sample_y[i]))\n",
        "    y.append(neurons_result[NEURON_1_INDEX])\n",
        "\n",
        "  print('\\nMean error: ', np.sum(calculate_error(y,sample_y))/len(sample_y))\n",
        "  \n",
        "  return y"
      ],
      "metadata": {
        "id": "hZWERDtZp6LM"
      },
      "execution_count": 81,
      "outputs": []
    },
    {
      "cell_type": "markdown",
      "source": [
        "## Samples\n",
        "\n"
      ],
      "metadata": {
        "id": "8hY4o2LgxT21"
      }
    },
    {
      "cell_type": "code",
      "source": [
        "# Sample 1\n",
        "sample_x = np.array([-3, -2, -1, -0.5, 0, 0.5, 1, 1.5, 2, 3])\n",
        "sample_y = np.array([0.73212, 0.7379, 0.7838, 0.8903, 0.9820, 0.8114, 0.5937, 0.5219, 0.5049, 0.5002])\n",
        "\n",
        "# Sample 2\n",
        "sample_x_2 = np.array([0.0, 1.0])\n",
        "sample_y_2 = np.array([0.5, 0.1])\n",
        "\n",
        "# Sample weights\n",
        "init_weights = np.array([\n",
        "    [3.,0,0,0],\n",
        "    [-4.,1,0,0],\n",
        "    [-1.,-3.,0,0],\n",
        "    [0,0,2.,-10.0]\n",
        "])\n",
        "\n",
        "init_weights_2 = np.array([\n",
        "    [-1. , 0 , 0, 0],\n",
        "    [3., -2., 0, 0],\n",
        "    [4., 2.0, 0, 0],\n",
        "    [0, 0, 2., 5.]\n",
        "])"
      ],
      "metadata": {
        "id": "1ZeLGFJNxaWW"
      },
      "execution_count": 82,
      "outputs": []
    },
    {
      "cell_type": "markdown",
      "source": [
        "#Start"
      ],
      "metadata": {
        "id": "NL_G6Sz8qaTn"
      }
    },
    {
      "cell_type": "code",
      "source": [
        "learning_rate = 0.03\n",
        "bias = random_weights()\n",
        "\n",
        "y = test(sample_x_2, sample_y_2, init_weights, bias)\n",
        "\n",
        "plt.plot(sample_x_2, sample_y_2, 'or', label=\"Sample results\")\n",
        "plt.plot(sample_x_2, y, 'oy', label=\"Predicted values\")\n",
        "\n",
        "plt.title(\"Calculated values\")\n",
        "plt.legend()"
      ],
      "metadata": {
        "colab": {
          "base_uri": "https://localhost:8080/",
          "height": 549
        },
        "id": "6e8PbT3Jq3sg",
        "outputId": "8a21992e-ef5a-41f9-b01e-68948967d458"
      },
      "execution_count": 83,
      "outputs": [
        {
          "output_type": "stream",
          "name": "stdout",
          "text": [
            "Trained weights:\n",
            " [[  3.   0.   0.   0.]\n",
            " [ -4.   1.   0.   0.]\n",
            " [ -1.  -3.   0.   0.]\n",
            " [  0.   0.   2. -10.]] \n",
            "\n",
            "Trained bias:\n",
            " [0.04216778 0.36112846 0.90927495 0.72590783] \n",
            "\n",
            "X          |    calculated_y    |   sample_y\n",
            "0.0        | 0.029795602846681323 |        0.5\n",
            "1.0        | 0.5439641634036931 |        0.1\n",
            "\n",
            "Mean error:  -0.013120116874812765\n"
          ]
        },
        {
          "output_type": "execute_result",
          "data": {
            "text/plain": [
              "<matplotlib.legend.Legend at 0x7f2679c56760>"
            ]
          },
          "metadata": {},
          "execution_count": 83
        },
        {
          "output_type": "display_data",
          "data": {
            "text/plain": [
              "<Figure size 432x288 with 1 Axes>"
            ],
            "image/png": "[encoded data removed]"
          },
          "metadata": {
            "needs_background": "light"
          }
        }
      ]
    },
    {
      "cell_type": "code",
      "source": [
        "learning_rate = 0.045\n",
        "bias = random_weights()\n",
        "\n",
        "trained_weights, trained_bias = train(sample_x,sample_y, init_weights, bias, 40000)\n",
        "y = test(sample_x, sample_y, trained_weights, trained_bias)\n",
        "\n",
        "plt.plot(sample_x, sample_y, 'or', label=\"Sample results\")\n",
        "plt.plot(sample_x, y, 'oy', label=\"Predicted values\")\n",
        "\n",
        "plt.title(\"Calculated values\")\n",
        "plt.legend()"
      ],
      "metadata": {
        "colab": {
          "base_uri": "https://localhost:8080/",
          "height": 978
        },
        "id": "eyvGCh4mIr2_",
        "outputId": "218efe74-09b2-4dba-aaf1-c052b38e723e"
      },
      "execution_count": 84,
      "outputs": [
        {
          "output_type": "stream",
          "name": "stdout",
          "text": [
            "\n",
            "Mean error:  -0.3581886471348547\n",
            "\n",
            "Mean error:  -0.003109029898237159\n",
            "\n",
            "Mean error:  -0.002479890286772213\n",
            "\n",
            "Mean error:  -0.001965122170008593\n",
            "\n",
            "Mean error:  -0.0015641847115179352\n",
            "\n",
            "Mean error:  -0.0012918480966476076\n",
            "\n",
            "Mean error:  -0.0006764545311785275\n",
            "\n",
            "Mean error:  0.00014740170107557793\n",
            "Trained weights:\n",
            " [[ 1.95831351  0.          0.          0.        ]\n",
            " [-3.33687721 -0.78889625  0.          0.        ]\n",
            " [-3.89978897  0.03145224  0.          0.        ]\n",
            " [ 0.          0.          4.74364664 -8.82712302]] \n",
            "\n",
            "Trained bias:\n",
            " (1.2891488056246125, 1.8653418247375746, -1.5349765177360866, -3.47434137885134) \n",
            "\n",
            "X          |    calculated_y    |   sample_y\n",
            "-3.0       | 0.7509857554872285 |    0.73212\n",
            "-2.0       | 0.7509714722165194 |     0.7379\n",
            "-1.0       | 0.7526552827554053 |     0.7838\n",
            "-0.5       | 0.8895762350976447 |     0.8903\n",
            "0.0        | 0.9813183071819104 |      0.982\n",
            "0.5        | 0.8226085053067896 |     0.8114\n",
            "1.0        | 0.5621479998248249 |     0.5937\n",
            "1.5        | 0.5196468586546426 |     0.5219\n",
            "2.0        |  0.51549667180212  |     0.5049\n",
            "3.0        | 0.5150715508140281 |     0.5002\n",
            "\n",
            "Mean error:  0.000225863914111335\n"
          ]
        },
        {
          "output_type": "execute_result",
          "data": {
            "text/plain": [
              "<matplotlib.legend.Legend at 0x7f2679ebe520>"
            ]
          },
          "metadata": {},
          "execution_count": 84
        },
        {
          "output_type": "display_data",
          "data": {
            "text/plain": [
              "<Figure size 432x288 with 1 Axes>"
            ],
            "image/png": "[encoded data removed]"
          },
          "metadata": {
            "needs_background": "light"
          }
        }
      ]
    }
  ]
}